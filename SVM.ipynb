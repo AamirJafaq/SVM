{
  "nbformat": 4,
  "nbformat_minor": 0,
  "metadata": {
    "colab": {
      "provenance": [],
      "toc_visible": true,
      "authorship_tag": "ABX9TyPSJ/p1gB8VZ4ZEXhw3Kf3F",
      "include_colab_link": true
    },
    "kernelspec": {
      "name": "python3",
      "display_name": "Python 3"
    },
    "language_info": {
      "name": "python"
    }
  },
  "cells": [
    {
      "cell_type": "markdown",
      "metadata": {
        "id": "view-in-github",
        "colab_type": "text"
      },
      "source": [
        "<a href=\"https://colab.research.google.com/github/AamirJafaq/SVM/blob/main/SVM.ipynb\" target=\"_parent\"><img src=\"https://colab.research.google.com/assets/colab-badge.svg\" alt=\"Open In Colab\"/></a>"
      ]
    },
    {
      "cell_type": "markdown",
      "source": [
        "# Support Vector Machines"
      ],
      "metadata": {
        "id": "D1yupEBGjLuq"
      }
    },
    {
      "cell_type": "markdown",
      "source": [
        "A support vector machine (SVM) is a supervised machine learning algorithm that classifies data by finding an optimal line or hyperplane that maximizes the distance between each class in an n-dimensional space. sdfadsfa"
      ],
      "metadata": {
        "id": "k9o9lqPajRtt"
      }
    },
    {
      "cell_type": "markdown",
      "source": [
        "## Explanation"
      ],
      "metadata": {
        "id": "7WyLvlUrkSgj"
      }
    },
    {
      "cell_type": "markdown",
      "source": [
        "The SVM algorithm is widely used in machine learning as it can handle both linear and nonlinear classification tasks. However, when the data is not linearly separable, kernel functions are used to transform the data higher-dimensional space to enable linear separation. This application of kernel functions can be known as the “kernel trick”, and the choice of kernel function, such as linear kernels, polynomial kernels, radial basis function (RBF) kernels, or sigmoid kernels, depends on data characteristics and the specific use case."
      ],
      "metadata": {
        "id": "pCa_XU5dkkNJ"
      }
    },
    {
      "cell_type": "markdown",
      "source": [
        "Linear SVMs are used with linearly separable data; this means that the data do not need to undergo any transformations to separate the data into different classes. Mathematically, this separating hyperplane can be represented as: \\\\\n",
        "$$wx + b = 0$$\n",
        "where $w$ is the weight vector, $x$ is the input vector, and $b$ is the bias term."
      ],
      "metadata": {
        "id": "34s6-T3Nn4W7"
      }
    }
  ]
}